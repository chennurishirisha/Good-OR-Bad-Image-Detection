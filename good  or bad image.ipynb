{
 "cells": [
  {
   "cell_type": "markdown",
   "id": "75f6f4ac",
   "metadata": {},
   "source": [
    "# simage is good or bad by using threshold and noise and saturation and edges values"
   ]
  },
  {
   "cell_type": "code",
   "execution_count": null,
   "id": "f5eee790",
   "metadata": {},
   "outputs": [
    {
     "name": "stdout",
     "output_type": "stream",
     "text": [
      "Image intensity: 129.44096020761245\n",
      "Darkest intensity: 15.0\n",
      "Brightest intensity: 255.0\n",
      "Dynamic range: 240.0\n",
      "Image noise: 54.41396493650266\n",
      "Threshold value: [[  0   0   0 ... 255 255 255]\n",
      " [  0 255 255 ... 255 255 255]\n",
      " [  0 255 255 ... 255 255 255]\n",
      " ...\n",
      " [  0   0   0 ... 255 255 255]\n",
      " [  0   0   0 ... 255 255 255]\n",
      " [  0   0   0 ... 255 255 255]]\n",
      "Minimum saturation value: 0.0\n",
      " saturation value: 255.0\n",
      "\n",
      "Image is good\n"
     ]
    }
   ],
   "source": [
    "import cv2\n",
    "import numpy as np\n",
    "img = cv2.imread('C:\\\\Users\\\\shiri\\\\OneDrive\\\\Desktop\\\\color_ball.jpg')\n",
    "gray = cv2.cvtColor(img, cv2.COLOR_BGR2GRAY)\n",
    "\n",
    "# Find the threshold value using Otsu's method\n",
    "_, threshold = cv2.threshold(gray, 0, 255, cv2.THRESH_BINARY + cv2.THRESH_OTSU)\n",
    "# Find the edges\n",
    "edges = cv2.Canny(img, 100, 200)\n",
    "\n",
    "# Convert the image to the HSV color space\n",
    "hsv_img = cv2.cvtColor(img, cv2.COLOR_BGR2HSV)\n",
    "h, s, v = cv2.split(hsv_img)\n",
    "\n",
    "# Find the maximum and minimum saturation values\n",
    "min_saturation, max_saturation, _, _ = cv2.minMaxLoc(s)\n",
    "\n",
    "# Compute the saturation channel of the image\n",
    "saturation_channel = hsv_img[:,:,1]\n",
    "\n",
    "#Blur the saturation channel using a Gaussian filter\n",
    "blurred_saturation_channel = cv2.GaussianBlur(saturation_channel, (5, 5), 0)\n",
    "\n",
    "# Threshold the saturation channel using Otsu's method\n",
    "_, thresholded_image = cv2.threshold(blurred_saturation_channel, 0, 255, cv2.THRESH_BINARY+cv2.THRESH_OTSU)\n",
    "\n",
    "# Calculate the minimum and maximum pixel values\n",
    "min_val, max_val, _, _ = cv2.minMaxLoc(gray)\n",
    "\n",
    "# Calculate the dynamic range\n",
    "dynamic_range = max_val - min_val\n",
    "\n",
    "# Compute image intensity\n",
    "intensity = np.mean(gray)\n",
    "\n",
    "# Compute image noise\n",
    "noise = cv2.meanStdDev(gray)[1][0][0]\n",
    "\n",
    "# Print results\n",
    "print('Image intensity:', intensity)\n",
    "print(\"Darkest intensity:\", min_val)\n",
    "print(\"Brightest intensity:\", max_val)\n",
    "print(\"Dynamic range:\", dynamic_range)\n",
    "print('Image noise:', noise)\n",
    "print(\"Threshold value:\", threshold)\n",
    "print(\"Minimum saturation value:\", min_saturation)\n",
    "print(\" saturation value:\", max_saturation)\n",
    "print()\n",
    "\n",
    "if intensity > 100 and noise < 55 and max_saturation > 200:\n",
    "    print('Image is good')\n",
    "else:\n",
    "    print('image is bad')\n",
    "\n",
    "cv2.imshow('Original Image', img)\n",
    "cv2.imshow('Gray image',gray)\n",
    "cv2.imshow('Threshold Image', threshold)\n",
    "cv2.imshow('Edge Image', edges)\n",
    "cv2.imshow('Saturation Channel', saturation_channel)\n",
    "cv2.imshow('noise image', noise)\n",
    "cv2.imshow('Blurred Saturation Channel', blurred_saturation_channel)\n",
    "cv2.imshow('Edges', edges)\n",
    "cv2.imshow('Thresholded Image', thresholded_image)\n",
    "\n",
    "cv2.waitKey(0)\n",
    "cv2.destroyAllWindows()\n"
   ]
  },
  {
   "cell_type": "code",
   "execution_count": null,
   "id": "a2c3fae7",
   "metadata": {},
   "outputs": [],
   "source": []
  }
 ],
 "metadata": {
  "kernelspec": {
   "display_name": "Python 3 (ipykernel)",
   "language": "python",
   "name": "python3"
  },
  "language_info": {
   "codemirror_mode": {
    "name": "ipython",
    "version": 3
   },
   "file_extension": ".py",
   "mimetype": "text/x-python",
   "name": "python",
   "nbconvert_exporter": "python",
   "pygments_lexer": "ipython3",
   "version": "3.11.0"
  }
 },
 "nbformat": 4,
 "nbformat_minor": 5
}
